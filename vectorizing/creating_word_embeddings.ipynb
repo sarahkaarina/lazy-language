{
  "nbformat": 4,
  "nbformat_minor": 0,
  "metadata": {
    "colab": {
      "provenance": [],
      "authorship_tag": "ABX9TyODuW5lvI78Ssd44ZFZkRsT",
      "include_colab_link": true
    },
    "kernelspec": {
      "name": "python3",
      "display_name": "Python 3"
    },
    "language_info": {
      "name": "python"
    }
  },
  "cells": [
    {
      "cell_type": "markdown",
      "metadata": {
        "id": "view-in-github",
        "colab_type": "text"
      },
      "source": [
        "<a href=\"https://colab.research.google.com/github/sarahkaarina/lazy-language/blob/main/vectorizing/creating_word_embeddings.ipynb\" target=\"_parent\"><img src=\"https://colab.research.google.com/assets/colab-badge.svg\" alt=\"Open In Colab\"/></a>"
      ]
    },
    {
      "cell_type": "markdown",
      "source": [
        "# Creating word embeddings\n",
        "\n",
        "**This basic notebook will talk you through how to create word embeddings**\n",
        "\n",
        "*What is a word embedding?*\n",
        "\n",
        "A word embedding simply refers to the vector representation of a word."
      ],
      "metadata": {
        "id": "H53urOKmYeTz"
      }
    },
    {
      "cell_type": "code",
      "execution_count": null,
      "metadata": {
        "id": "EXzngQioYOK0"
      },
      "outputs": [],
      "source": [
        "import numpy as np\n",
        "import pandas as pd\n",
        "\n",
        "import matplotlib.pyplot as plt\n",
        "\n",
        "# libraries for calculatine cosine similarity\n",
        "from sklearn.metrics import pairwise_distances\n",
        "from scipy.spatial.distance import cosine\n",
        "\n",
        "# using GPT-2\n",
        "from transformers import GPT2Tokenizer, GPT2Model, GPT2LMHeadModel"
      ]
    },
    {
      "cell_type": "markdown",
      "source": [
        "**Step 1**\n",
        "\n",
        "Create a semi-random list of words to vectorize."
      ],
      "metadata": {
        "id": "He9qha8_bKTx"
      }
    },
    {
      "cell_type": "code",
      "source": [
        "# Create random list of words\n",
        "\n",
        "animals = ['cat', 'dog', 'sheep', 'cow', 'moose', 'leaopard', 'fish']\n",
        "vegetables = ['onion', 'cucumber', 'zucchini', 'tomato', 'cabbage', 'carrot', 'broccoli']\n",
        "clothing_items = ['dress', 'shirt', 'pants', 'jeans', 'jumper', 'jacket', 'tie', 'skirt']\n",
        "\n",
        "random_words = list(animals + vegetables + clothing_items)\n",
        "\n",
        "# check length to make sure we have the same number of words in our embeddings\n",
        "len(random_words)"
      ],
      "metadata": {
        "colab": {
          "base_uri": "https://localhost:8080/"
        },
        "id": "q6FIzoRbbRYZ",
        "outputId": "5feee6d7-dbbc-49a2-d25c-982b989c7c72"
      },
      "execution_count": null,
      "outputs": [
        {
          "output_type": "execute_result",
          "data": {
            "text/plain": [
              "22"
            ]
          },
          "metadata": {},
          "execution_count": 24
        }
      ]
    },
    {
      "cell_type": "markdown",
      "source": [
        "**Step 2**\n",
        "\n",
        "Vectorize/embed words."
      ],
      "metadata": {
        "id": "wTzDebErbUBp"
      }
    },
    {
      "cell_type": "code",
      "source": [
        "model = 'gpt2'\n",
        "logit_model = GPT2LMHeadModel\n",
        "tokenizer_model = GPT2Tokenizer\n",
        "\n",
        "tokenizer = tokenizer_model.from_pretrained(model)\n",
        "model = logit_model.from_pretrained(model)\n",
        "\n",
        "input = tokenizer.encode(random_words, add_prefix_space = \"True\")\n",
        "\n",
        "embeddings = model.transformer.wte.weight[input, :]\n",
        "\n",
        "# Let's check what they look like!\n",
        "embeddings\n",
        "\n",
        "# Let's also check we have all 22 words in here\n",
        "print(embeddings.size())\n"
      ],
      "metadata": {
        "colab": {
          "base_uri": "https://localhost:8080/"
        },
        "id": "qBoCLqNWg4Z7",
        "outputId": "d8cd7315-c2c2-4ed1-d58b-3451f281f82c"
      },
      "execution_count": null,
      "outputs": [
        {
          "output_type": "execute_result",
          "data": {
            "text/plain": [
              "torch.Size([22, 768])"
            ]
          },
          "metadata": {},
          "execution_count": 21
        }
      ]
    },
    {
      "cell_type": "markdown",
      "source": [
        "**Step 3**\n",
        "\n",
        "Compare similarity"
      ],
      "metadata": {
        "id": "DgRLXaCgDHcy"
      }
    },
    {
      "cell_type": "code",
      "source": [
        "# Numpify them so you can calculate cosine similarity\n",
        "\n",
        "np_embed = embeddings.squeeze().detach().numpy()\n",
        "\n",
        "cosine_distribution = np.around(1-pairwise_distances(np_embed, metric=\"cosine\"), 2)\n",
        "\n",
        "cosine_distribution"
      ],
      "metadata": {
        "id": "r4bTfPPDC7VA",
        "outputId": "58e72a8b-de3e-499d-9698-7fe8b624b9b6",
        "colab": {
          "base_uri": "https://localhost:8080/",
          "height": 211
        }
      },
      "execution_count": 1,
      "outputs": [
        {
          "output_type": "error",
          "ename": "NameError",
          "evalue": "name 'embeddings' is not defined",
          "traceback": [
            "\u001b[0;31m---------------------------------------------------------------------------\u001b[0m",
            "\u001b[0;31mNameError\u001b[0m                                 Traceback (most recent call last)",
            "\u001b[0;32m<ipython-input-1-595344aba415>\u001b[0m in \u001b[0;36m<cell line: 3>\u001b[0;34m()\u001b[0m\n\u001b[1;32m      1\u001b[0m \u001b[0;31m# Numpify them so you can calculate cosine similarity\u001b[0m\u001b[0;34m\u001b[0m\u001b[0;34m\u001b[0m\u001b[0m\n\u001b[1;32m      2\u001b[0m \u001b[0;34m\u001b[0m\u001b[0m\n\u001b[0;32m----> 3\u001b[0;31m \u001b[0mnp_embed\u001b[0m \u001b[0;34m=\u001b[0m \u001b[0membeddings\u001b[0m\u001b[0;34m.\u001b[0m\u001b[0msqueeze\u001b[0m\u001b[0;34m(\u001b[0m\u001b[0;34m)\u001b[0m\u001b[0;34m.\u001b[0m\u001b[0mdetach\u001b[0m\u001b[0;34m(\u001b[0m\u001b[0;34m)\u001b[0m\u001b[0;34m.\u001b[0m\u001b[0mnumpy\u001b[0m\u001b[0;34m(\u001b[0m\u001b[0;34m)\u001b[0m\u001b[0;34m\u001b[0m\u001b[0;34m\u001b[0m\u001b[0m\n\u001b[0m\u001b[1;32m      4\u001b[0m \u001b[0;34m\u001b[0m\u001b[0m\n\u001b[1;32m      5\u001b[0m \u001b[0mcosine_distribution\u001b[0m \u001b[0;34m=\u001b[0m \u001b[0mnp\u001b[0m\u001b[0;34m.\u001b[0m\u001b[0maround\u001b[0m\u001b[0;34m(\u001b[0m\u001b[0;36m1\u001b[0m\u001b[0;34m-\u001b[0m\u001b[0mpairwise_distances\u001b[0m\u001b[0;34m(\u001b[0m\u001b[0mnp_embed\u001b[0m\u001b[0;34m,\u001b[0m \u001b[0mmetric\u001b[0m\u001b[0;34m=\u001b[0m\u001b[0;34m\"cosine\"\u001b[0m\u001b[0;34m)\u001b[0m\u001b[0;34m,\u001b[0m \u001b[0;36m2\u001b[0m\u001b[0;34m)\u001b[0m\u001b[0;34m\u001b[0m\u001b[0;34m\u001b[0m\u001b[0m\n",
            "\u001b[0;31mNameError\u001b[0m: name 'embeddings' is not defined"
          ]
        }
      ]
    }
  ]
}